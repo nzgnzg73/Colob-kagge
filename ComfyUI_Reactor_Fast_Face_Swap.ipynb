{
  "nbformat": 4,
  "nbformat_minor": 0,
  "metadata": {
    "colab": {
      "provenance": [],
      "gpuType": "T4"
    },
    "kernelspec": {
      "name": "python3",
      "display_name": "Python 3"
    },
    "language_info": {
      "name": "python"
    },
    "accelerator": "GPU"
  },
  "cells": [
    {
      "cell_type": "markdown",
      "source": [
        "# Tech NZG\n",
        "\n",
        "# Suscribe Button ✅ click 😊😊\n",
        "\n",
        "https://youtube.com/@hubnzg?si=mbIuCBwmgAwoCrYJ"
      ],
      "metadata": {
        "id": "ZTEivI1XfinP"
      }
    },
    {
      "cell_type": "markdown",
      "source": [
        "\n",
        "━━━━━━━━━━━━━━━━━━━━━━━━━━━━━━━━━━\n",
        "\n",
        "📸 Instagram: https://www.instagram.com/nzgofficial_\n",
        "\n",
        "\n",
        "💬 WhatsApp Channel: https://whatsapp.com/channel/0029VaCjPYV9xVJc8QY3Nz11\n",
        "\n",
        "━━━━━━━━━━━━━━━━━━━━━━━━━━━━━━━━━━\n",
        "\n",
        "Want to talk or ask something?\n",
        "Just click the YouTube link below! You'll find my 📧 email there and can message me easily. 👇\n",
        "\n",
        "🎥 YouTube Channel: @nzg73\n",
        "\n",
        "🔗 https://youtube.com/@NZG73\n",
        "\n",
        "━━━━━━━━━━━━━━━━━━━━━━━━━━━━━━━━━━"
      ],
      "metadata": {
        "id": "oF1iiU1Wfm1V"
      }
    },
    {
      "cell_type": "markdown",
      "source": [
        "# Clone"
      ],
      "metadata": {
        "id": "lnrj2WnFQX7m"
      }
    },
    {
      "cell_type": "code",
      "execution_count": null,
      "metadata": {
        "id": "Xo80wfHm8IHK"
      },
      "outputs": [],
      "source": [
        "%cd /content\n",
        "!git clone https://huggingface.co/spaces/DegMaTsu/ComfyUI-Reactor-Fast-Face-Swap\n",
        "%cd ComfyUI-Reactor-Fast-Face-Swap"
      ]
    },
    {
      "cell_type": "markdown",
      "source": [
        "# Requirements"
      ],
      "metadata": {
        "id": "vncNRu90Qkjl"
      }
    },
    {
      "cell_type": "code",
      "source": [
        "!pip install -r requirements.txt\n",
        "!pip install spaces"
      ],
      "metadata": {
        "id": "1l3G5sWB8SgD"
      },
      "execution_count": null,
      "outputs": []
    },
    {
      "cell_type": "markdown",
      "source": [
        "# Setp (3)"
      ],
      "metadata": {
        "id": "pr9enclzQtKV"
      }
    },
    {
      "cell_type": "code",
      "source": [
        "import re\n",
        "\n",
        "file_path = \"/content/ComfyUI-Reactor-Fast-Face-Swap/app.py\"\n",
        "\n",
        "with open(file_path, \"r\", encoding=\"utf-8\") as f:\n",
        "    code = f.read()\n",
        "\n",
        "# Replace the existing app.launch(...) with app.launch(share=True)\n",
        "code = re.sub(\n",
        "    r\"app\\.launch\\([^)]*\\)\",\n",
        "    \"app.launch(share=True)\",\n",
        "    code\n",
        ")\n",
        "\n",
        "with open(file_path, \"w\", encoding=\"utf-8\") as f:\n",
        "    f.write(code)\n",
        "\n",
        "print(\"✅ Successfully patched: app.launch(share=True)\")"
      ],
      "metadata": {
        "id": "B5ILgmakdoEN"
      },
      "execution_count": null,
      "outputs": []
    },
    {
      "cell_type": "code",
      "source": [
        "!python /content/ComfyUI-Reactor-Fast-Face-Swap/app.py"
      ],
      "metadata": {
        "id": "3NsN8HRY8g0S"
      },
      "execution_count": null,
      "outputs": []
    }
  ]
}