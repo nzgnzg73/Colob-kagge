{
  "nbformat": 4,
  "nbformat_minor": 0,
  "metadata": {
    "colab": {
      "provenance": []
    },
    "kernelspec": {
      "name": "python3",
      "display_name": "Python 3"
    },
    "language_info": {
      "name": "python"
    }
  },
  "cells": [
    {
      "cell_type": "markdown",
      "source": [
        "Tech NZG\n",
        "\n",
        "Suscribe Button ✅ click 😊😊\n",
        "\n",
        "https://youtube.com/@hubnzg?si=mbIuCBwmgAwoCrYJ"
      ],
      "metadata": {
        "id": "_LeaivOJfTgZ"
      }
    },
    {
      "cell_type": "markdown",
      "source": [
        "━━━━━━━━━━━━━━━━━━━━━━━━━━━━━━━━━━\n",
        "\n",
        "\n",
        "📸 Instagram: https://www.instagram.com/nzgofficial_\n",
        "\n",
        "\n",
        "💬 WhatsApp Channel: https://whatsapp.com/channel/0029VaCjPYV9xVJc8QY3Nz11\n",
        "━━━━━━━━━━━━━━━━━━━━━━━━━━━━━━━━━━\n",
        "\n",
        "\n",
        "Want to talk or ask something?\n",
        "Just click the YouTube link below! You'll find my 📧 email there and can message me easily. 👇\n",
        "\n",
        "🎥 YouTube Channel: @nzg73\n",
        "\n",
        "\n",
        "🔗 https://youtube.com/@NZG73\n",
        "\n",
        "━━━━━━━━━━━━━━━━━━━━━━━━━━━━━━━━━━"
      ],
      "metadata": {
        "id": "qh8_aoNgfdGZ"
      }
    },
    {
      "cell_type": "markdown",
      "source": [
        "# Setp (1)"
      ],
      "metadata": {
        "id": "D6GENNhbfuo4"
      }
    },
    {
      "cell_type": "code",
      "source": [
        "%cd /content\n",
        "!git clone https://github.com/Paxurux/chatter-box-dubbing.git\n",
        "%cd chatter-box-dubbing\n",
        "!pip install --upgrade setuptools wheel"
      ],
      "metadata": {
        "id": "4bVDZgB_fo-o"
      },
      "execution_count": null,
      "outputs": []
    },
    {
      "cell_type": "code",
      "source": [
        "!pip install torch torchvision torchaudio --index-url https://download.pytorch.org/whl/cu128\n",
        "!pip install -r requirements.txt\n",
        "!pip install nemo_toolkit[asr]\n",
        "!pip install numpy==1.26.4 --only-binary=:all:\n",
        "!pip install chatterbox-tts --no-deps"
      ],
      "metadata": {
        "id": "1K3tvR-5fyq3"
      },
      "execution_count": null,
      "outputs": []
    },
    {
      "cell_type": "markdown",
      "source": [
        "# Setp (2)"
      ],
      "metadata": {
        "id": "ICKMRGicfzHP"
      }
    },
    {
      "cell_type": "code",
      "source": [
        "import re\n",
        "\n",
        "file_path = \"/content/chatter-box-dubbing/app.py\"\n",
        "\n",
        "with open(file_path, \"r\", encoding=\"utf-8\") as f:\n",
        "    code = f.read()\n",
        "\n",
        "# Replace demo.launch(...)\n",
        "code = re.sub(\n",
        "    r\"demo\\.launch\\([^)]*\\)\",\n",
        "    \"demo.launch(share=True)\",\n",
        "    code\n",
        ")\n",
        "\n",
        "# Replace demo.queue().launch(...)\n",
        "code = re.sub(\n",
        "    r\"demo\\.queue\\(\\)\\.launch\\([^)]*\\)\",\n",
        "    \"demo.queue().launch(share=True)\",\n",
        "    code\n",
        ")\n",
        "\n",
        "with open(file_path, \"w\", encoding=\"utf-8\") as f:\n",
        "    f.write(code)\n",
        "\n",
        "print(\"✅ Patched app.py with share=True\")"
      ],
      "metadata": {
        "id": "C_Rr-Ritf5Wf"
      },
      "execution_count": null,
      "outputs": []
    },
    {
      "cell_type": "code",
      "source": [
        "!python app.py"
      ],
      "metadata": {
        "id": "eQukBnELf8kQ"
      },
      "execution_count": null,
      "outputs": []
    }
  ]
}